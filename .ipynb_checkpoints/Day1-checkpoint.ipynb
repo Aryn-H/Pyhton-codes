{
 "cells": [
  {
   "cell_type": "code",
   "execution_count": 6,
   "id": "98aaa549",
   "metadata": {},
   "outputs": [
    {
     "name": "stdout",
     "output_type": "stream",
     "text": [
      "Enter your name:Alx\n",
      "Enter the year of birth:2002\n",
      "The person Alx born in 2002 is 22 years old\n"
     ]
    }
   ],
   "source": [
    "name = input('Enter your name:')\n",
    "year = input('Enter the year of birth:')\n",
    "age = 2024-int(year)\n",
    "print('The person',name,'born in',year,'is',age,'years old')"
   ]
  },
  {
   "cell_type": "code",
   "execution_count": 11,
   "id": "a52c5ed7",
   "metadata": {},
   "outputs": [
    {
     "name": "stdout",
     "output_type": "stream",
     "text": [
      "Enter the marks:150\n",
      "Invalid\n"
     ]
    }
   ],
   "source": [
    "marks = int(input('Enter the marks:'))\n",
    "if(100>=marks>=80):\n",
    "    print('Distinction')\n",
    "elif(80>marks>=60):\n",
    "    print('Pass')\n",
    "elif(marks<60):\n",
    "    print('Fail')\n",
    "else:\n",
    "    print('Invalid')"
   ]
  },
  {
   "cell_type": "code",
   "execution_count": 21,
   "id": "9216e2df",
   "metadata": {},
   "outputs": [
    {
     "name": "stdout",
     "output_type": "stream",
     "text": [
      "Enter the negative number:-5\n",
      "5\n"
     ]
    }
   ],
   "source": [
    "negative = int(input('Enter the negative number:'))\n",
    "positive = abs(negative)\n",
    "print(positive)"
   ]
  },
  {
   "cell_type": "code",
   "execution_count": 8,
   "id": "3ccc3a94",
   "metadata": {},
   "outputs": [
    {
     "name": "stdout",
     "output_type": "stream",
     "text": [
      "Enter the number: 5\n",
      "The factotial of the given number is: 120\n"
     ]
    }
   ],
   "source": [
    "num = int(input(\"Enter the number: \"))\n",
    "f = 1\n",
    "if(num<0):\n",
    "    print(\"The factorial does not exist for negative number\")\n",
    "elif(num==0):\n",
    "    print(\"The factorial for 0 is 1\")\n",
    "else:\n",
    "    for i in range(1,num+1):\n",
    "        f = f*i\n",
    "    print(\"The factotial of the given number is:\",f)"
   ]
  },
  {
   "cell_type": "code",
   "execution_count": 24,
   "id": "a136264f",
   "metadata": {},
   "outputs": [
    {
     "name": "stdout",
     "output_type": "stream",
     "text": [
      "Enter the number:145\n",
      "The number is a strong number\n"
     ]
    }
   ],
   "source": [
    "num = int(input(\"Enter the number:\"))\n",
    "sum = 0\n",
    "temp = num\n",
    "while(num):\n",
    "    i = 1\n",
    "    f = 1\n",
    "    r = num%10\n",
    "    while(i<=r):\n",
    "        f = f*i\n",
    "        i = i+1\n",
    "    sum = sum+f\n",
    "    num = num//10\n",
    "if(sum == temp):\n",
    "    print(\"The number is a strong number\")\n",
    "else:\n",
    "    print(\"The number is not a strong number\")"
   ]
  },
  {
   "cell_type": "code",
   "execution_count": 36,
   "id": "1f0036f6",
   "metadata": {},
   "outputs": [
    {
     "name": "stdout",
     "output_type": "stream",
     "text": [
      "Enter the number:153\n",
      "The number is a armstrong number\n"
     ]
    }
   ],
   "source": [
    "num = int(input(\"Enter the number:\"))\n",
    "sum = 0\n",
    "order = len(str(num))\n",
    "temp = num\n",
    "while(temp>0):\n",
    "    digit = temp%10\n",
    "    sum += digit**order\n",
    "    temp //= 10\n",
    "if(sum == num):\n",
    "    print(\"The number is a armstrong number\")\n",
    "else:\n",
    "    print(\"The number is not a armstrong number\")"
   ]
  },
  {
   "cell_type": "code",
   "execution_count": 45,
   "id": "21e2663a",
   "metadata": {},
   "outputs": [
    {
     "name": "stdout",
     "output_type": "stream",
     "text": [
      "Enter the number:9\n",
      "The number is a neon number\n"
     ]
    }
   ],
   "source": [
    "num = int(input(\"Enter the number:\"))\n",
    "sum = 0\n",
    "square = num*num\n",
    "temp = square\n",
    "while(square!=0):\n",
    "    r =  square%10\n",
    "    sum = sum+r\n",
    "    square = square//10\n",
    "if(sum == num):\n",
    "    print(\"The number is a neon number\")\n",
    "else:\n",
    "    print(\"The number is not a neon number\")"
   ]
  },
  {
   "cell_type": "code",
   "execution_count": 3,
   "id": "292b6c88",
   "metadata": {},
   "outputs": [
    {
     "name": "stdout",
     "output_type": "stream",
     "text": [
      "Enter the numer:123\n",
      "The number is a spy number\n"
     ]
    }
   ],
   "source": [
    "num = int(input(\"Enter the numer:\"))\n",
    "sum = 0\n",
    "product = 1\n",
    "temp = num\n",
    "while(num):\n",
    "    r = num%10\n",
    "    sum += r\n",
    "    product *= r\n",
    "    num = num//10\n",
    "if(sum == product):\n",
    "    print(\"The number is a spy number\")\n",
    "else:\n",
    "    print(\"The number is not a spy number\")"
   ]
  },
  {
   "cell_type": "code",
   "execution_count": 50,
   "id": "80c157a1",
   "metadata": {},
   "outputs": [
    {
     "name": "stdout",
     "output_type": "stream",
     "text": [
      "Enter the number:123\n",
      "The number is not a palindrome\n"
     ]
    }
   ],
   "source": [
    "num = int(input(\"Enter the number:\"))\n",
    "temp = num\n",
    "rev = 0\n",
    "while(num):\n",
    "    r = num%10\n",
    "    rev = rev*10+r\n",
    "    num = num//10\n",
    "if(rev == temp):\n",
    "    print(\"The number is a palindrome\")\n",
    "else:\n",
    "    print(\"The number is not a palindrome\")"
   ]
  },
  {
   "cell_type": "code",
   "execution_count": 13,
   "id": "ae221ee3",
   "metadata": {},
   "outputs": [
    {
     "name": "stdout",
     "output_type": "stream",
     "text": [
      "Enter the number:3\n",
      "The number is not a happy number\n"
     ]
    }
   ],
   "source": [
    "def isHappy(n):\n",
    "    sum = 0\n",
    "    while(n):\n",
    "        r = n%10\n",
    "        sum+=r**2\n",
    "        n = n//10\n",
    "    return sum\n",
    "num = int(input(\"Enter the number:\"))\n",
    "temp = num\n",
    "while(temp!=1 and temp!=4):\n",
    "    temp = isHappy(temp)\n",
    "if(temp==1):\n",
    "    print(\"The number is a happy number\")\n",
    "else:\n",
    "    print(\"The number is not a happy number\")"
   ]
  },
  {
   "cell_type": "code",
   "execution_count": 29,
   "id": "8d0a597f",
   "metadata": {},
   "outputs": [
    {
     "name": "stdout",
     "output_type": "stream",
     "text": [
      "Enter the starting number:10\n",
      "Enter the ending range:30\n",
      "11\n",
      "13\n",
      "17\n",
      "19\n",
      "23\n",
      "29\n",
      "The total prime number in given range are: 6\n"
     ]
    }
   ],
   "source": [
    "start = int(input(\"Enter the starting number:\"))\n",
    "end = int(input(\"Enter the ending range:\"))\n",
    "count = 0\n",
    "for num in range(start,end+1):\n",
    "    if(num==2):\n",
    "        print(num)\n",
    "        count+=1\n",
    "    for i in range(2,num):\n",
    "        if(num%i==0):\n",
    "            flag = False\n",
    "            break\n",
    "        else:\n",
    "            flag = True\n",
    "    if(flag):\n",
    "        print(num)\n",
    "        count+=1\n",
    "print(\"The total prime number in given range are:\",count)"
   ]
  },
  {
   "cell_type": "code",
   "execution_count": 36,
   "id": "ea50f8ee",
   "metadata": {},
   "outputs": [
    {
     "name": "stdout",
     "output_type": "stream",
     "text": [
      "Enter the number:4\n",
      "The given number 4 is not a prime number\n"
     ]
    }
   ],
   "source": [
    "num = int(input(\"Enter the number:\"))\n",
    "\n",
    "for i in range(2,num):\n",
    "    if(num%i==0):\n",
    "        flag = False\n",
    "        break\n",
    "    else:\n",
    "        flag = True\n",
    "if(flag):\n",
    "    print(\"The given number\",num,\"is a prime number\")\n",
    "else:\n",
    "    print(\"The given number\",num,\"is not a prime number\")"
   ]
  },
  {
   "cell_type": "code",
   "execution_count": 33,
   "id": "242bf24d",
   "metadata": {},
   "outputs": [
    {
     "name": "stdout",
     "output_type": "stream",
     "text": [
      "Enter the number:10\n",
      "Fibonacci series of 10 is:\n",
      "0 1 1 2 3 5 8 13 21 34 "
     ]
    }
   ],
   "source": [
    "num = int(input(\"Enter the number:\"))\n",
    "f1 = 0\n",
    "f2 = 1\n",
    "print(\"Fibonacci series of\",num,\"is:\")\n",
    "print(f1,f2,end=\" \")\n",
    "for i in range(2,num):\n",
    "    f3 = f1+f2\n",
    "    print(f3,end=\" \")\n",
    "    f1 = f2\n",
    "    f2 = f3"
   ]
  },
  {
   "cell_type": "code",
   "execution_count": 38,
   "id": "e50086e8",
   "metadata": {},
   "outputs": [
    {
     "name": "stdout",
     "output_type": "stream",
     "text": [
      "Enter the number:5\n",
      "The multiplication table is:\n",
      "\n",
      "5 X 1 = 5\n",
      "\n",
      "5 X 2 = 5\n",
      "\n",
      "5 X 3 = 5\n",
      "\n",
      "5 X 4 = 5\n",
      "\n",
      "5 X 5 = 5\n",
      "\n",
      "5 X 6 = 5\n",
      "\n",
      "5 X 7 = 5\n",
      "\n",
      "5 X 8 = 5\n",
      "\n",
      "5 X 9 = 5\n",
      "\n",
      "5 X 10 = 5\n"
     ]
    }
   ],
   "source": [
    "num = int(input(\"Enter the number:\"))\n",
    "print(\"The multiplication table is:\")\n",
    "for i in range(1,11):\n",
    "    x = num*1\n",
    "    print()\n",
    "    print(num,\"X\",i,\"=\",x)"
   ]
  },
  {
   "cell_type": "code",
   "execution_count": 41,
   "id": "1a3e2081",
   "metadata": {},
   "outputs": [
    {
     "name": "stdout",
     "output_type": "stream",
     "text": [
      "Enter the year:2023\n",
      "The year 2023 is not a leap year\n"
     ]
    }
   ],
   "source": [
    "year = int(input(\"Enter the year:\"))\n",
    "if(year%4==0):\n",
    "    print(\"The year\",year,\"is a leap year\")\n",
    "else:\n",
    "    print(\"The year\",year,\"is not a leap year\")"
   ]
  }
 ],
 "metadata": {
  "kernelspec": {
   "display_name": "Python 3 (ipykernel)",
   "language": "python",
   "name": "python3"
  },
  "language_info": {
   "codemirror_mode": {
    "name": "ipython",
    "version": 3
   },
   "file_extension": ".py",
   "mimetype": "text/x-python",
   "name": "python",
   "nbconvert_exporter": "python",
   "pygments_lexer": "ipython3",
   "version": "3.11.3"
  }
 },
 "nbformat": 4,
 "nbformat_minor": 5
}
