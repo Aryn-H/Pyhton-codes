{
 "cells": [
  {
   "cell_type": "code",
   "execution_count": 18,
   "id": "8ac2cfe5",
   "metadata": {},
   "outputs": [
    {
     "name": "stdout",
     "output_type": "stream",
     "text": [
      "['J', 'a', 'c', 'k']\n",
      "['Jack', 'John']\n",
      "apple\n",
      "['apple', 'banana', 'cherry', 'mango']\n",
      "['apple', 'banana', 'cherry', 'mango']\n",
      "['apple', 'banana', 'cherry', 'mango']\n",
      "['apple', 'banana', 'cherry', 'mango']\n",
      "['apple', 'banana', 'cherry']\n",
      "[]\n",
      "4\n",
      "<class 'list'>\n",
      "<class 'str'>\n",
      "Exists\n",
      "['apple', 'kiwi', 'cherry', 'mango']\n",
      "['apple', 'Pineapple', 'dates', 'x', 'mango']\n"
     ]
    }
   ],
   "source": [
    "l1 = ['apple','banana','cherry','mango']\n",
    "l2 = [10,20,30,40]\n",
    "l3 = [True,False]\n",
    "l4 = list((\"Jack\"))\n",
    "l5 = list((\"Jack\",\"John\"))\n",
    "\n",
    "print(l4)\n",
    "print(l5)\n",
    "print(l1[0])\n",
    "print(l1[0:4])\n",
    "print(l1[:4])\n",
    "print(l1[0:])\n",
    "print(l1[:])\n",
    "print(l1[-4:-1])\n",
    "print(l1[-1:-4])\n",
    "x = len(l1)\n",
    "print(x)\n",
    "print(type(l1))\n",
    "print(type(l1[0]))\n",
    "if 'apple' in l1:\n",
    "    print(\"Exists\")\n",
    "l1[1] = 'kiwi'\n",
    "print(l1)\n",
    "l1[1:3] = ['Pineapple','dates','x']\n",
    "print(l1)"
   ]
  },
  {
   "cell_type": "code",
   "execution_count": 19,
   "id": "055e48f1",
   "metadata": {},
   "outputs": [
    {
     "name": "stdout",
     "output_type": "stream",
     "text": [
      "['apple', 'blackcurrant', 'watermelon', 'cherry']\n"
     ]
    }
   ],
   "source": [
    "list = [\"apple\",\"banana\",'cherry']\n",
    "list[1:2] = ['blackcurrant','watermelon']\n",
    "print(list)"
   ]
  },
  {
   "cell_type": "code",
   "execution_count": 20,
   "id": "bb3f6b42",
   "metadata": {},
   "outputs": [
    {
     "name": "stdout",
     "output_type": "stream",
     "text": [
      "['apple', 'watermelon']\n"
     ]
    }
   ],
   "source": [
    "list = [\"apple\",\"banana\",'cherry']\n",
    "list[1:3] = ['watermelon']\n",
    "print(list)"
   ]
  },
  {
   "cell_type": "code",
   "execution_count": 21,
   "id": "c90d9329",
   "metadata": {},
   "outputs": [
    {
     "name": "stdout",
     "output_type": "stream",
     "text": [
      "['apple', 'banana', 'watermelon', 'cherry']\n"
     ]
    }
   ],
   "source": [
    "list = [\"apple\",\"banana\",'cherry']\n",
    "list.insert(2,'watermelon')\n",
    "print(list)"
   ]
  },
  {
   "cell_type": "code",
   "execution_count": 23,
   "id": "e22e6261",
   "metadata": {},
   "outputs": [
    {
     "name": "stdout",
     "output_type": "stream",
     "text": [
      "['apple', 'banana', 'cherry', 'orange']\n"
     ]
    }
   ],
   "source": [
    "list = [\"apple\",\"banana\",'cherry']\n",
    "list.append('orange')\n",
    "print(list)"
   ]
  },
  {
   "cell_type": "code",
   "execution_count": 24,
   "id": "44e1072c",
   "metadata": {},
   "outputs": [
    {
     "name": "stdout",
     "output_type": "stream",
     "text": [
      "['apple', 'banana', 'cherry', 'mango', 'pineapple', 'papaya']\n"
     ]
    }
   ],
   "source": [
    "list1 = ['apple','banana','cherry']\n",
    "list2 = ['mango','pineapple','papaya']\n",
    "list1.extend(list2)\n",
    "print(list1)"
   ]
  },
  {
   "cell_type": "code",
   "execution_count": 25,
   "id": "45acd506",
   "metadata": {},
   "outputs": [
    {
     "name": "stdout",
     "output_type": "stream",
     "text": [
      "['apple', 'cherry', 'banana']\n"
     ]
    }
   ],
   "source": [
    "list1 = ['apple','banana','cherry','banana']\n",
    "list1.remove('banana')\n",
    "print(list1)"
   ]
  },
  {
   "cell_type": "code",
   "execution_count": 26,
   "id": "996aad82",
   "metadata": {},
   "outputs": [
    {
     "name": "stdout",
     "output_type": "stream",
     "text": [
      "['apple', 'cherry']\n"
     ]
    }
   ],
   "source": [
    "thislist = ['apple','banana','cherry']\n",
    "thislist.pop(1)\n",
    "print(thislist)"
   ]
  },
  {
   "cell_type": "code",
   "execution_count": 27,
   "id": "9a733724",
   "metadata": {},
   "outputs": [
    {
     "name": "stdout",
     "output_type": "stream",
     "text": [
      "['banana', 'cherry']\n"
     ]
    }
   ],
   "source": [
    "thislist = ['apple','banana','cherry']\n",
    "del thislist[0]\n",
    "print(thislist)"
   ]
  },
  {
   "cell_type": "code",
   "execution_count": 30,
   "id": "b81ebf9a",
   "metadata": {},
   "outputs": [
    {
     "ename": "NameError",
     "evalue": "name 'thislist' is not defined",
     "output_type": "error",
     "traceback": [
      "\u001b[1;31m---------------------------------------------------------------------------\u001b[0m",
      "\u001b[1;31mNameError\u001b[0m                                 Traceback (most recent call last)",
      "Cell \u001b[1;32mIn[30], line 3\u001b[0m\n\u001b[0;32m      1\u001b[0m thislist \u001b[38;5;241m=\u001b[39m [\u001b[38;5;124m'\u001b[39m\u001b[38;5;124mapple\u001b[39m\u001b[38;5;124m'\u001b[39m,\u001b[38;5;124m'\u001b[39m\u001b[38;5;124mbanana\u001b[39m\u001b[38;5;124m'\u001b[39m,\u001b[38;5;124m'\u001b[39m\u001b[38;5;124mcherry\u001b[39m\u001b[38;5;124m'\u001b[39m]\n\u001b[0;32m      2\u001b[0m \u001b[38;5;28;01mdel\u001b[39;00m thislist\n\u001b[1;32m----> 3\u001b[0m \u001b[38;5;28mprint\u001b[39m(\u001b[43mthislist\u001b[49m)\n",
      "\u001b[1;31mNameError\u001b[0m: name 'thislist' is not defined"
     ]
    }
   ],
   "source": [
    "thislist = ['apple','banana','cherry']\n",
    "del thislist\n",
    "print(thislist)"
   ]
  },
  {
   "cell_type": "code",
   "execution_count": 32,
   "id": "9a049430",
   "metadata": {},
   "outputs": [
    {
     "name": "stdout",
     "output_type": "stream",
     "text": [
      "apple\n",
      "banana\n",
      "cherry\n"
     ]
    }
   ],
   "source": [
    "thislist = ['apple','banana','cherry']\n",
    "for x in thislist:\n",
    "    print(x)"
   ]
  },
  {
   "cell_type": "code",
   "execution_count": 33,
   "id": "82df6baf",
   "metadata": {},
   "outputs": [
    {
     "name": "stdout",
     "output_type": "stream",
     "text": [
      "apple\n",
      "banana\n",
      "cherry\n"
     ]
    }
   ],
   "source": [
    "thislist = ['apple','banana','cherry']\n",
    "for i in range(len(thislist)):\n",
    "    print(thislist[i])"
   ]
  },
  {
   "cell_type": "code",
   "execution_count": 34,
   "id": "245fc2e5",
   "metadata": {},
   "outputs": [
    {
     "name": "stdout",
     "output_type": "stream",
     "text": [
      "apple\n",
      "banana\n",
      "cherry\n"
     ]
    }
   ],
   "source": [
    "thislist = ['apple','banana','cherry']\n",
    "i = 0\n",
    "while i < len(thislist):\n",
    "    print(thislist[i])\n",
    "    i+=1"
   ]
  },
  {
   "cell_type": "code",
   "execution_count": 36,
   "id": "6b45882c",
   "metadata": {},
   "outputs": [
    {
     "name": "stdout",
     "output_type": "stream",
     "text": [
      "apple\n",
      "banana\n",
      "cherry\n"
     ]
    },
    {
     "data": {
      "text/plain": [
       "[None, None, None]"
      ]
     },
     "execution_count": 36,
     "metadata": {},
     "output_type": "execute_result"
    }
   ],
   "source": [
    "# newlist = [expression for item in iterable if condition==True]\n",
    "thislist = ['apple','banana','cherry']\n",
    "[print(x) for x in thislist]"
   ]
  },
  {
   "cell_type": "code",
   "execution_count": 43,
   "id": "8c77259a",
   "metadata": {},
   "outputs": [
    {
     "name": "stdout",
     "output_type": "stream",
     "text": [
      "['apple', 'banana', 'mango']\n"
     ]
    }
   ],
   "source": [
    "fruits = ['apple','banana','cherry','kiwi','mango']\n",
    "newlist = []\n",
    "# for x in fruits:\n",
    "#     if 'a' in x:\n",
    "#         newlist.append(x)\n",
    "# print(newlist)\n",
    "newlist = [x for x in fruits if 'a' in x]\n",
    "print(newlist)"
   ]
  },
  {
   "cell_type": "code",
   "execution_count": 44,
   "id": "8619bf39",
   "metadata": {},
   "outputs": [
    {
     "name": "stdout",
     "output_type": "stream",
     "text": [
      "['banana', 'kiwi', 'mango', 'orange', 'pineapple']\n"
     ]
    }
   ],
   "source": [
    "thislist = ['orange','mango','kiwi','pineapple','banana']\n",
    "thislist.sort()\n",
    "print(thislist)"
   ]
  },
  {
   "cell_type": "code",
   "execution_count": 45,
   "id": "01bf418d",
   "metadata": {},
   "outputs": [
    {
     "name": "stdout",
     "output_type": "stream",
     "text": [
      "['pineapple', 'orange', 'mango', 'kiwi', 'banana']\n"
     ]
    }
   ],
   "source": [
    "thislist = ['orange','mango','kiwi','pineapple','banana']\n",
    "thislist.sort(reverse = True)\n",
    "print(thislist)"
   ]
  },
  {
   "cell_type": "code",
   "execution_count": 46,
   "id": "1eef70c0",
   "metadata": {},
   "outputs": [
    {
     "name": "stdout",
     "output_type": "stream",
     "text": [
      "[23, 50, 65, 82, 100]\n"
     ]
    }
   ],
   "source": [
    "thislist = [100,50,65,82,23]\n",
    "thislist.sort()\n",
    "print(thislist)"
   ]
  },
  {
   "cell_type": "code",
   "execution_count": 47,
   "id": "13592316",
   "metadata": {},
   "outputs": [
    {
     "name": "stdout",
     "output_type": "stream",
     "text": [
      "[100, 82, 65, 50, 23]\n"
     ]
    }
   ],
   "source": [
    "thislist = [100,50,65,82,23]\n",
    "thislist.sort(reverse = True)\n",
    "print(thislist)"
   ]
  },
  {
   "cell_type": "code",
   "execution_count": 51,
   "id": "ac2a30ca",
   "metadata": {},
   "outputs": [
    {
     "name": "stdout",
     "output_type": "stream",
     "text": [
      "[50, 65, 23, 82, 100]\n"
     ]
    }
   ],
   "source": [
    "# Sort the given marks based on how close it is to 50 using cutomised sort\n",
    "def fun(n):\n",
    "    return abs(n-50)\n",
    "marks = [100,50,65,82,23]\n",
    "marks.sort(key = fun)\n",
    "print(marks)"
   ]
  },
  {
   "cell_type": "code",
   "execution_count": 60,
   "id": "1f8ec0ef",
   "metadata": {},
   "outputs": [
    {
     "name": "stdout",
     "output_type": "stream",
     "text": [
      "['banana', 'cherry', 'Kiwi', 'Orange']\n"
     ]
    }
   ],
   "source": [
    "fruits = ['banana','Orange','Kiwi','cherry']\n",
    "fruits.sort(key = str.lower)\n",
    "print(fruits)"
   ]
  },
  {
   "cell_type": "code",
   "execution_count": 72,
   "id": "0146ef2e",
   "metadata": {},
   "outputs": [
    {
     "name": "stdout",
     "output_type": "stream",
     "text": [
      "Enter the list:[5,32,62,98,69]\n",
      "Enter the 1st position:3\n",
      "Enter the 2nd position:5\n",
      "[5, 32, 69, 98, 62]\n"
     ]
    }
   ],
   "source": [
    "def swap(lst):\n",
    "    pos1 = int(input(\"Enter the 1st position:\"))\n",
    "    pos2 = int(input(\"Enter the 2nd position:\"))\n",
    "    lst[pos1-1],lst[pos2-1] = lst[pos2-1],lst[pos1-1]\n",
    "    return lst\n",
    "list = eval(input(\"Enter the list:\"))\n",
    "print(swap(list))"
   ]
  },
  {
   "cell_type": "code",
   "execution_count": 76,
   "id": "01a79772",
   "metadata": {},
   "outputs": [
    {
     "name": "stdout",
     "output_type": "stream",
     "text": [
      "Enter the list:[4,5,6,4,5,6]\n",
      "Sum =  30\n",
      "AVerage =  5.0\n",
      "First element is: 4 Last element is: 6\n"
     ]
    }
   ],
   "source": [
    "list = eval(input(\"Enter the list:\"))\n",
    "sum = 0\n",
    "for i in list:\n",
    "    sum+=i\n",
    "avg = sum/len(list)\n",
    "print('Sum = ',sum)\n",
    "print(\"AVerage = \",avg)\n",
    "print(\"First element is:\",list[0],'Last element is:',list[-1])"
   ]
  },
  {
   "cell_type": "code",
   "execution_count": 87,
   "id": "43a13cc7",
   "metadata": {},
   "outputs": [
    {
     "name": "stdout",
     "output_type": "stream",
     "text": [
      "Max =  4\n",
      "MIn =  1\n"
     ]
    }
   ],
   "source": [
    "#Write a program to find min and max in the list\n",
    "lsit = [1,2,3,4]\n",
    "lsit.sort()\n",
    "max = lsit[-1]\n",
    "min = lsit[0]\n",
    "print(\"Max = \",max)\n",
    "print(\"MIn = \",min)"
   ]
  },
  {
   "cell_type": "code",
   "execution_count": 90,
   "id": "9e2c703e",
   "metadata": {},
   "outputs": [
    {
     "name": "stdout",
     "output_type": "stream",
     "text": [
      "The number of times 40 occured in list is: 3\n"
     ]
    }
   ],
   "source": [
    "def count_occ(list,n):\n",
    "    count = 0\n",
    "    for i in list:\n",
    "        if(i==n):\n",
    "            count+=1\n",
    "    return count\n",
    "l = [10,20,40,40,10,90,70,40]\n",
    "x = 40\n",
    "print(\"The number of times\",x,\"occured in list is:\",count_occ(l,x))"
   ]
  },
  {
   "cell_type": "code",
   "execution_count": 103,
   "id": "511ffb2a",
   "metadata": {},
   "outputs": [
    {
     "name": "stdout",
     "output_type": "stream",
     "text": [
      "The count of unique values in the given list is: 5\n",
      "The unique values from the list are: [10, 20, 40, 90, 70]\n"
     ]
    }
   ],
   "source": [
    "def count_uni(l1,l2):\n",
    "    count = 0\n",
    "    for i in l1:\n",
    "        if(i not in l2):\n",
    "            l2.append(i)\n",
    "            count+=1\n",
    "    return count\n",
    "list = [10,20,40,10,90,70,40]\n",
    "uni = []\n",
    "print('The count of unique values in the given list is:',count_uni(list,uni))\n",
    "print(\"The unique values from the list are:\",uni)"
   ]
  },
  {
   "cell_type": "code",
   "execution_count": 113,
   "id": "b3142f14",
   "metadata": {},
   "outputs": [
    {
     "name": "stdout",
     "output_type": "stream",
     "text": [
      "Duplication Removal list product is: 50400000\n"
     ]
    }
   ],
   "source": [
    "def d_prod(uni):\n",
    "    prod = 1\n",
    "    for x in uni:\n",
    "        prod*=x\n",
    "    return prod\n",
    "list = [10,20,40,10,90,70,40]\n",
    "res = []\n",
    "[res.append(i) for i in list if(i not in res)]\n",
    "product = d_prod(res)\n",
    "print(\"Duplication Removal list product is:\",product)"
   ]
  },
  {
   "cell_type": "code",
   "execution_count": 121,
   "id": "f2e55b31",
   "metadata": {},
   "outputs": [
    {
     "name": "stdout",
     "output_type": "stream",
     "text": [
      "The elements greater than the given frequemcy K is: [8, 5]\n"
     ]
    }
   ],
   "source": [
    "list = [8,9,8,8,8,5,5,4,5]\n",
    "k = 2\n",
    "new = []\n",
    "for i in list:\n",
    "    freq = list.count(i)\n",
    "    if(freq>k and i not in new):\n",
    "        new.append(i)\n",
    "print(\"The elements greater than the given frequemcy K is:\",new)"
   ]
  },
  {
   "cell_type": "code",
   "execution_count": 133,
   "id": "95a9fe84",
   "metadata": {},
   "outputs": [
    {
     "name": "stdout",
     "output_type": "stream",
     "text": [
      "Enter the starting range:1\n",
      "Enter the endong range:5\n",
      "False\n"
     ]
    }
   ],
   "source": [
    "l = [1,2,3,4,5,6]\n",
    "r1 = int(input(\"Enter the starting range:\"))\n",
    "r2 = int(input(\"Enter the endong range:\"))\n",
    "flag = False\n",
    "for i in l:\n",
    "    if(r1<=i<=r2):\n",
    "        flag = True\n",
    "    else:\n",
    "        flag = False\n",
    "print(flag)"
   ]
  },
  {
   "cell_type": "code",
   "execution_count": 27,
   "id": "7956a775",
   "metadata": {},
   "outputs": [
    {
     "name": "stdout",
     "output_type": "stream",
     "text": [
      "Intersection of two lists are: [2]\n",
      "Unioin of two lists are: [1, 2, 3]\n"
     ]
    }
   ],
   "source": [
    "def inter(lst1,lst2):\n",
    "    return list(set(lst1) & set(lst2))\n",
    "def union(lst1,lst2):\n",
    "    return list(set(lst1) | set(lst2))\n",
    "list1 = [1,2]\n",
    "list2 = [2,3]\n",
    "print(\"Intersection of two lists are:\",inter(list1,list2))\n",
    "print(\"Unioin of two lists are:\",union(list1,list2))"
   ]
  },
  {
   "cell_type": "code",
   "execution_count": 28,
   "id": "8f7ea22d",
   "metadata": {},
   "outputs": [
    {
     "name": "stdout",
     "output_type": "stream",
     "text": [
      "The merged sorted list is: [1, 2, 3, 4, 5, 6, 7, 8, 9, 10, 11, 13]\n"
     ]
    }
   ],
   "source": [
    "l1 = [1,3,5,7,9,11,13]\n",
    "l2 = [2,4,6,8,10]\n",
    "m = []\n",
    "i = j = 0\n",
    "while(i<len(l1) and j<len(l2)):\n",
    "    if(l1[i]<l2[j]):\n",
    "        m.append(l1[i])\n",
    "        i+=1\n",
    "    else:\n",
    "        m.append(l2[j])\n",
    "        j+=1\n",
    "m.extend(l1[i:])\n",
    "m.extend(l2[j:])\n",
    "print(\"The merged sorted list is:\",m)"
   ]
  },
  {
   "cell_type": "code",
   "execution_count": 29,
   "id": "ede3c546",
   "metadata": {},
   "outputs": [
    {
     "name": "stdout",
     "output_type": "stream",
     "text": [
      "Partitioned List: [3, 1, 1, 2, 4, 5, 9, 6, 5]\n"
     ]
    }
   ],
   "source": [
    "def partition_list(lst,pivot):\n",
    "    less_than = [x for x in lst if x < pivot]\n",
    "    equal_to = [x for x in lst if x == pivot]\n",
    "    greater_than = [x for x in lst if x > pivot]\n",
    "    return less_than + equal_to + greater_than\n",
    "my_list = [3,1,4,1,5,9,2,6,5]\n",
    "pivot_value = 4\n",
    "print(\"Partitioned List:\",partition_list(my_list,pivot_value))"
   ]
  },
  {
   "cell_type": "code",
   "execution_count": 30,
   "id": "e621fcff",
   "metadata": {},
   "outputs": [
    {
     "name": "stdout",
     "output_type": "stream",
     "text": [
      "The largest sub-array sum is:  6\n"
     ]
    }
   ],
   "source": [
    "def largest_sub(lst):\n",
    "    max_sum = curr_sum = lst[0]\n",
    "    for i in lst[1:]:\n",
    "        curr_sum = max(i , curr_sum+i)\n",
    "        max_sum = max(max_sum , curr_sum)\n",
    "    return max_sum\n",
    "my_list = [-2,1,-3,4,-1,2,1,-5,4]\n",
    "print(\"The largest sub-array sum is: \",largest_sub(my_list))"
   ]
  },
  {
   "cell_type": "code",
   "execution_count": 31,
   "id": "50e1c1de",
   "metadata": {},
   "outputs": [
    {
     "name": "stdout",
     "output_type": "stream",
     "text": [
      "The list of peak elements in the given list of integers are:  8\n"
     ]
    }
   ],
   "source": [
    "def peak_element(lst):\n",
    "    if not lst:\n",
    "        return None\n",
    "    l,r = 0,len(lst)-1\n",
    "    while(l<r):\n",
    "        mid = l + ((r-l)//2)\n",
    "        if(lst[mid]<lst[mid+1]):\n",
    "            l = mid+1\n",
    "        else:\n",
    "            r = mid\n",
    "    return lst[l]\n",
    "my_list = [1,8,1,3,5,6,4] \n",
    "my_list.sort()\n",
    "print(\"The list of peak elements in the given list of integers are: \",peak_element(my_list))"
   ]
  }
 ],
 "metadata": {
  "kernelspec": {
   "display_name": "Python 3 (ipykernel)",
   "language": "python",
   "name": "python3"
  },
  "language_info": {
   "codemirror_mode": {
    "name": "ipython",
    "version": 3
   },
   "file_extension": ".py",
   "mimetype": "text/x-python",
   "name": "python",
   "nbconvert_exporter": "python",
   "pygments_lexer": "ipython3",
   "version": "3.11.3"
  }
 },
 "nbformat": 4,
 "nbformat_minor": 5
}
