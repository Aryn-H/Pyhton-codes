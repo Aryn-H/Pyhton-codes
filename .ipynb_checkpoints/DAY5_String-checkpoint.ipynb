{
 "cells": [
  {
   "cell_type": "code",
   "execution_count": 3,
   "id": "1f8f6d9e",
   "metadata": {},
   "outputs": [
    {
     "name": "stdout",
     "output_type": "stream",
     "text": [
      "Enter a string  Hello World\n",
      "Length of the string: 13\n",
      "Uppercase:   HELLO WORLD\n",
      "False\n",
      "Lowercase:   hello world\n",
      "False\n",
      "Capitlalized:   hello world\n",
      "Capitalized every word:   Hello World\n",
      "Enter the substring to count its occurrence:l\n",
      "Occurrences of l in the string: 3\n",
      "Enter the prefix to check if the string starts with it: he\n",
      "Starts wiht he : False\n",
      "Enter the suffix to check if the string ends with it: ld\n",
      "Ends wiht ld : True\n",
      "Enter the substring to replace:World\n",
      "Enter the replacement substring:India\n",
      "After replacement:   Hello India\n",
      "Enter a delimiteer to split the string: \n",
      "Split string: ['', '', 'Hello', 'World']\n",
      "Enter substrings to join(seperated by space):Namaste Baratha\n",
      "Enter the delimiter to join the substrings: \n",
      "Joined string: Namaste Baratha\n",
      "Hello World\n",
      "11\n",
      "11\n"
     ]
    }
   ],
   "source": [
    "input_string = input(\"Enter a string\")\n",
    "\n",
    "print(\"Length of the string:\", len(input_string))\n",
    "\n",
    "print(\"Uppercase:\", input_string.upper())\n",
    "print(input_string.isupper())\n",
    "\n",
    "print(\"Lowercase:\", input_string.lower())\n",
    "print(input_string.islower())\n",
    "\n",
    "print(\"Capitlalized:\", input_string.capitalize())\n",
    "print(\"Capitalized every word:\", input_string.title())\n",
    "\n",
    "substring = input(\"Enter the substring to count its occurrence:\")\n",
    "print(\"Occurrences of\",substring,\"in the string:\", input_string.count(substring))\n",
    "\n",
    "prefix = input(\"Enter the prefix to check if the string starts with it: \")\n",
    "print(\"Starts wiht\",prefix,\":\",input_string.startswith(prefix))\n",
    "\n",
    "suffix = input(\"Enter the suffix to check if the string ends with it: \")\n",
    "print(\"Ends wiht\",suffix,\":\",input_string.endswith(suffix))\n",
    "\n",
    "old_substring = input(\"Enter the substring to replace:\")\n",
    "new_substring = input(\"Enter the replacement substring:\")\n",
    "print(\"After replacement:\",input_string.replace(old_substring,new_substring))\n",
    "\n",
    "delimiter = input(\"Enter a delimiteer to split the string:\")\n",
    "print(\"Split string:\",input_string.split(delimiter))\n",
    "\n",
    "substrings = input(\"Enter substrings to join(seperated by space):\").split()\n",
    "join_delimiter = input(\"Enter the delimiter to join the substrings:\")\n",
    "print(\"Joined string:\",join_delimiter.join(substrings))\n",
    "\n",
    "print(input_string.strip())\n",
    "print(input_string.rfind(\"l\"))\n",
    "print(input_string.rindex(\"l\"))"
   ]
  },
  {
   "cell_type": "code",
   "execution_count": 8,
   "id": "3f7f434d",
   "metadata": {},
   "outputs": [
    {
     "name": "stdout",
     "output_type": "stream",
     "text": [
      "Enter the name:Yu\n",
      "Enter age:10\n",
      "Enter the marks69\n",
      "I am Yu. I am 10 years old. I have scored 69.0 marks.\n"
     ]
    }
   ],
   "source": [
    "name = input(\"Enter the name:\")\n",
    "age = int(input(\"Enter age:\"))\n",
    "marks = float(input(\"Enter the marks\"))\n",
    "print(f\"I am {name}. I am {age} years old. I have scored {marks} marks.\")"
   ]
  },
  {
   "cell_type": "code",
   "execution_count": 17,
   "id": "07911e84",
   "metadata": {},
   "outputs": [
    {
     "name": "stdout",
     "output_type": "stream",
     "text": [
      "Enter a string:HELLO\n",
      "The reversed string is: OLLEH\n"
     ]
    }
   ],
   "source": [
    "#Reverse a string\n",
    "\n",
    "def strrev(s):\n",
    "    rev = ''\n",
    "    i = len(s)\n",
    "    while(i>0):\n",
    "        rev = rev + s[i-1]\n",
    "        i-=1\n",
    "    return rev\n",
    "input_string = input(\"Enter a string:\")\n",
    "print(\"The reversed string is:\",strrev(input_string))"
   ]
  }
 ],
 "metadata": {
  "kernelspec": {
   "display_name": "Python 3 (ipykernel)",
   "language": "python",
   "name": "python3"
  },
  "language_info": {
   "codemirror_mode": {
    "name": "ipython",
    "version": 3
   },
   "file_extension": ".py",
   "mimetype": "text/x-python",
   "name": "python",
   "nbconvert_exporter": "python",
   "pygments_lexer": "ipython3",
   "version": "3.11.3"
  }
 },
 "nbformat": 4,
 "nbformat_minor": 5
}
