{
 "cells": [
  {
   "cell_type": "code",
   "execution_count": 2,
   "id": "543243a5",
   "metadata": {},
   "outputs": [
    {
     "name": "stdout",
     "output_type": "stream",
     "text": [
      "X: 10\n",
      "Y: 50\n"
     ]
    }
   ],
   "source": [
    "def myfun(x,y = 50):\n",
    "    print(\"X:\",x)\n",
    "    print(\"Y:\",y)\n",
    "myfun(10)"
   ]
  },
  {
   "cell_type": "code",
   "execution_count": 12,
   "id": "d3b4679a",
   "metadata": {},
   "outputs": [
    {
     "name": "stdout",
     "output_type": "stream",
     "text": [
      "John Snow\n",
      "John Snow\n"
     ]
    }
   ],
   "source": [
    "def student(firstname, lastname):\n",
    "    print(firstname, lastname)\n",
    "student(firstname = 'John' , lastname = 'Snow')\n",
    "student(lastname = 'Snow' , firstname = 'John')"
   ]
  },
  {
   "cell_type": "code",
   "execution_count": 13,
   "id": "2f5b730c",
   "metadata": {},
   "outputs": [
    {
     "name": "stdout",
     "output_type": "stream",
     "text": [
      "(10, 20, 30, 40, 50, 60)\n"
     ]
    }
   ],
   "source": [
    "def fun(*argv):\n",
    "    print(argv)\n",
    "fun(10,20,30,40,50,60)"
   ]
  },
  {
   "cell_type": "code",
   "execution_count": 19,
   "id": "174b5880",
   "metadata": {},
   "outputs": [
    {
     "name": "stdout",
     "output_type": "stream",
     "text": [
      "{'a': 10, 'b': 'RAI'}\n"
     ]
    }
   ],
   "source": [
    "def fun1(**kwargs):\n",
    "    print(kwargs)\n",
    "fun1(a = 10, b= 'RAI')"
   ]
  },
  {
   "cell_type": "code",
   "execution_count": 21,
   "id": "f3cf5615",
   "metadata": {},
   "outputs": [
    {
     "name": "stdout",
     "output_type": "stream",
     "text": [
      "343\n",
      "343\n"
     ]
    }
   ],
   "source": [
    "def cube(x):\n",
    "    return x**3\n",
    "\n",
    "cube_v2 = lambda x : x**3\n",
    "\n",
    "print(cube(7))\n",
    "print(cube_v2(7))"
   ]
  },
  {
   "cell_type": "code",
   "execution_count": 34,
   "id": "e8166d52",
   "metadata": {},
   "outputs": [
    {
     "name": "stdout",
     "output_type": "stream",
     "text": [
      "125\n"
     ]
    }
   ],
   "source": [
    "def power(N,p):\n",
    "    if(p==0):\n",
    "        return 1\n",
    "    return N*power(N,p-1)\n",
    "print(power(5,3))"
   ]
  },
  {
   "cell_type": "code",
   "execution_count": 4,
   "id": "4b4b6c6c",
   "metadata": {},
   "outputs": [
    {
     "name": "stdout",
     "output_type": "stream",
     "text": [
      "5 4 3 2 1 \n",
      "5 4 3 2 \n",
      "5 4 3 \n",
      "5 4 \n",
      "5 \n"
     ]
    }
   ],
   "source": [
    "# Pattern\n",
    "# 5 4 3 2 1\n",
    "# 5 4 3 2\n",
    "# 5 4 3\n",
    "# 5 4\n",
    "# 5\n",
    "\n",
    "def patterns(n, m):\n",
    "    if n==0:\n",
    "        return\n",
    "    for i in range(5,m-1,-1):\n",
    "        print(i,end=' ')\n",
    "    print()\n",
    "    patterns(n-1, m+1)\n",
    "n = 5\n",
    "m = 1\n",
    "patterns(n , m)"
   ]
  },
  {
   "cell_type": "code",
   "execution_count": 21,
   "id": "6b158b64",
   "metadata": {},
   "outputs": [
    {
     "name": "stdout",
     "output_type": "stream",
     "text": [
      "Enter the decimal number: 8\n",
      "Binary equivalent of the given decimal numeber 8 is: 1000\n"
     ]
    }
   ],
   "source": [
    "# Write a program to convert a decimal number to binary\n",
    "\n",
    "def d_to_b(d):\n",
    "    if(d==0):\n",
    "        return 0\n",
    "    b = ''\n",
    "    while(d>0):\n",
    "        b = str(d%2) + b\n",
    "        d = d//2\n",
    "    return b \n",
    "d = int(input(\"Enter the decimal number: \"))\n",
    "b = d_to_b(d)\n",
    "print(\"Binary equivalent of the given decimal numeber\",d,'is:',b)"
   ]
  },
  {
   "cell_type": "code",
   "execution_count": 25,
   "id": "03e48356",
   "metadata": {},
   "outputs": [
    {
     "name": "stdout",
     "output_type": "stream",
     "text": [
      "Enter the number: 0110\n",
      "Enter the base: 2\n",
      "6\n"
     ]
    }
   ],
   "source": [
    "# Write a program to convert any base number to decimal\n",
    "\n",
    "def any_base_to_decimal(number, base):\n",
    "    dec = int(number, base)\n",
    "    print(dec)\n",
    "num = input(\"Enter the number: \")\n",
    "base = int(input(\"Enter the base: \"))\n",
    "any_base_to_decimal(num, base)"
   ]
  }
 ],
 "metadata": {
  "kernelspec": {
   "display_name": "Python 3 (ipykernel)",
   "language": "python",
   "name": "python3"
  },
  "language_info": {
   "codemirror_mode": {
    "name": "ipython",
    "version": 3
   },
   "file_extension": ".py",
   "mimetype": "text/x-python",
   "name": "python",
   "nbconvert_exporter": "python",
   "pygments_lexer": "ipython3",
   "version": "3.11.3"
  }
 },
 "nbformat": 4,
 "nbformat_minor": 5
}
