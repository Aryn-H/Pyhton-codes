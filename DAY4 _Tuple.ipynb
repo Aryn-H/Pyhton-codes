{
 "cells": [
  {
   "cell_type": "code",
   "execution_count": 7,
   "id": "37c9aa2a",
   "metadata": {},
   "outputs": [
    {
     "name": "stdout",
     "output_type": "stream",
     "text": [
      "Tuple 1: (1, 2, 3, 4, 5)\n",
      "First element of tuple 1: 1\n",
      "Last element of tuple 1: 5\n",
      "Tuple 2: ('a', 'b', 'c', 'd', 'e')\n",
      "Second element of tuple 2: b\n",
      "Second last element of tuple 2: d\n",
      "\n",
      "apple\n",
      "banana\n",
      "cherry\n",
      "\n",
      "apple\n",
      "banana\n",
      "['cherry', 'strawberry', 'raspberry']\n",
      "\n",
      "After making changes:\n",
      "Tuple 1: (1, 2, 3, 4, 5, 6)\n",
      "First element of tuple 1: 1\n",
      "Last element of tuple 1: 6\n",
      "Tuple 2: ('a', 'b', 'd', 'e')\n",
      "Second element of tuple 2: b\n",
      "Second last element of tuple 2: d\n",
      "\n",
      "Joined tuple: (1, 2, 3, 4, 5, 6, 'a', 'b', 'd', 'e')\n"
     ]
    }
   ],
   "source": [
    "def create_tuples():\n",
    "    tuple1 = (1,2,3,4,5)\n",
    "    tuple2 = ('a','b','c','d','e')\n",
    "    tuple3 = ('apple','banana','cherry')\n",
    "    return tuple1,tuple2,tuple3\n",
    "def access_tuple_items(tuple1,tuple2):\n",
    "    print(\"Tuple 1:\",tuple1)\n",
    "    print(\"First element of tuple 1:\",tuple1[0])\n",
    "    print(\"Last element of tuple 1:\",tuple1[-1])\n",
    "    print(\"Tuple 2:\",tuple2)\n",
    "    print(\"Second element of tuple 2:\",tuple2[1])\n",
    "    print(\"Second last element of tuple 2:\",tuple2[-2])\n",
    "def unpacking_tuple1(tuple3):\n",
    "    (green,yellow,red) = tuple3\n",
    "    print(green)\n",
    "    print(yellow)\n",
    "    print(red)\n",
    "def unpacking_tuple2(fruits):\n",
    "    fruits = (\"apple\",\"banana\",\"cherry\",\"strawberry\",\"raspberry\")\n",
    "    (green,yellow,*red) = fruits\n",
    "    print(green)\n",
    "    print(yellow)\n",
    "    print(red)\n",
    "def change_tuples(tuple1,tuple2):\n",
    "    list1 = list(tuple1)\n",
    "    list2 = list(tuple2)\n",
    "    list1.append(6)\n",
    "    list2.remove('c')\n",
    "    tuple1 = tuple(list1)\n",
    "    tuple2 = tuple(list2)\n",
    "    return tuple1,tuple2\n",
    "def loop_through_tuple(tuple1):\n",
    "    print(\"Looping through tuple 1 using for loop:\")\n",
    "    for item in tuple1:\n",
    "        print(item)\n",
    "    print(\"\\nLooping usimg while loop and index numbers:\")\n",
    "    index = 0\n",
    "    while index < len(tuple1):\n",
    "        print(tuple1[index])\n",
    "        index+=1\n",
    "def join_tuples(tuple1, tuple2):\n",
    "    tuple3 = tuple1 + tuple2\n",
    "    return tuple3\n",
    "\n",
    "tuple1, tuple2, tuple3 = create_tuples()\n",
    "access_tuple_items(tuple1, tuple2)\n",
    "print()\n",
    "\n",
    "unpacking_tuple1(tuple3)\n",
    "print()\n",
    "\n",
    "fruits = (\"apple\",\"banana\",\"cherry\",\"strawberry\",\"raspberry\")\n",
    "unpacking_tuple2(fruits)\n",
    "print()\n",
    "\n",
    "tuple1, tuple2 = change_tuples(tuple1, tuple2)\n",
    "print(\"After making changes:\")\n",
    "access_tuple_items(tuple1, tuple2)\n",
    "print()\n",
    "\n",
    "tuple3 = join_tuples(tuple1, tuple2)\n",
    "print(\"Joined tuple:\",tuple3)"
   ]
  },
  {
   "cell_type": "code",
   "execution_count": 9,
   "id": "9c37b86b",
   "metadata": {},
   "outputs": [
    {
     "name": "stdout",
     "output_type": "stream",
     "text": [
      "1\n",
      "3\n",
      "(2, 3)\n",
      "(1, 2, 3, 4, 5, 6)\n",
      "(1, 2, 3, 4, 5, 6, 1, 2, 3, 4, 5, 6, 1, 2, 3, 4, 5, 6)\n",
      "True\n",
      "True\n",
      "3\n",
      "1\n",
      "2\n",
      "3\n",
      "('h', 'e', 'l', 'l', 'o')\n",
      "(1, 2, 3)\n",
      "1\n",
      "1\n"
     ]
    }
   ],
   "source": [
    "my_tuple = (1,2,3)\n",
    "another_tuple = tuple([4,5,6])\n",
    "print(my_tuple[0])\n",
    "print(my_tuple[-1])\n",
    "print(my_tuple[1:3])\n",
    "\n",
    "combined_tuple = my_tuple + another_tuple\n",
    "print(combined_tuple)\n",
    "\n",
    "repeated_tuple = combined_tuple * 3\n",
    "print(repeated_tuple)\n",
    "\n",
    "print(2 in my_tuple)\n",
    "print(4 not in my_tuple)\n",
    "print(len(my_tuple))\n",
    "for item in my_tuple:\n",
    "    print(item)\n",
    "\n",
    "string_to_tuple = tuple('hello')\n",
    "print(string_to_tuple)\n",
    "\n",
    "list_to_tuple = tuple([1,2,3])\n",
    "print(list_to_tuple)\n",
    "\n",
    "print(my_tuple.count(2))\n",
    "print(my_tuple.count(3))"
   ]
  },
  {
   "cell_type": "code",
   "execution_count": 10,
   "id": "acabdd04",
   "metadata": {},
   "outputs": [
    {
     "name": "stdout",
     "output_type": "stream",
     "text": [
      "Sorted tuple: (1, 2, 3, 5, 8)\n"
     ]
    }
   ],
   "source": [
    "tuple_of_integers = (5,2,8,1,3)\n",
    "sorted_tuple = tuple(sorted(tuple_of_integers))\n",
    "print(\"Sorted tuple:\",sorted_tuple)"
   ]
  },
  {
   "cell_type": "code",
   "execution_count": 17,
   "id": "e5a829a7",
   "metadata": {},
   "outputs": [
    {
     "name": "stdout",
     "output_type": "stream",
     "text": [
      "Sorted tuples: [(1, 'apple'), (2, 'banana'), (3, 'orange')]\n"
     ]
    }
   ],
   "source": [
    "tuple_of_tuples = ((1 , 'apple'), (3 , 'orange'), (2 , 'banana'))\n",
    "sorted_tuples = sorted(tuple_of_tuples, key=lambda x: x[1])\n",
    "print(\"Sorted tuples:\",sorted_tuples)"
   ]
  },
  {
   "cell_type": "code",
   "execution_count": 19,
   "id": "75bbecd0",
   "metadata": {},
   "outputs": [
    {
     "name": "stdout",
     "output_type": "stream",
     "text": [
      "(1, 4, 9, 16, 25)\n"
     ]
    }
   ],
   "source": [
    "square_tuple = tuple(x**2 for x in range(1,6))\n",
    "print(square_tuple)"
   ]
  },
  {
   "cell_type": "code",
   "execution_count": 20,
   "id": "a08664b3",
   "metadata": {},
   "outputs": [
    {
     "name": "stdout",
     "output_type": "stream",
     "text": [
      "Zipped tuple: ((1, 'a'), (2, 'b'), (3, 'c'))\n"
     ]
    }
   ],
   "source": [
    "list1 = [1,2,3]\n",
    "list2 = ['a','b','c']\n",
    "zipped_tuple = tuple(zip(list1,list2))\n",
    "print(\"Zipped tuple:\",zipped_tuple)"
   ]
  },
  {
   "cell_type": "code",
   "execution_count": 21,
   "id": "25181158",
   "metadata": {},
   "outputs": [
    {
     "name": "stdout",
     "output_type": "stream",
     "text": [
      "Distance between the two points are:  5.0\n"
     ]
    }
   ],
   "source": [
    "from collections import namedtuple\n",
    "import math\n",
    "\n",
    "Point = namedtuple('Point',['x','y'])\n",
    "\n",
    "point1 = Point(1,2)\n",
    "point2 = Point(4,6)\n",
    "\n",
    "dist = math.sqrt((point2.x - point1.x) **2\n",
    "                + (point2.y - point1.y) **2)\n",
    "\n",
    "print(\"Distance between the two points are: \",dist)"
   ]
  },
  {
   "cell_type": "code",
   "execution_count": 22,
   "id": "7ffb2e51",
   "metadata": {},
   "outputs": [
    {
     "name": "stdout",
     "output_type": "stream",
     "text": [
      "Filtered Tuple:  (2, 4)\n"
     ]
    }
   ],
   "source": [
    "original_tuple = (1,2,3,4,5)\n",
    "filtered_tuple = tuple(filter(lambda x:x%2==0,original_tuple))\n",
    "print('Filtered Tuple: ',filtered_tuple)"
   ]
  },
  {
   "cell_type": "code",
   "execution_count": 23,
   "id": "8f8f14f6",
   "metadata": {},
   "outputs": [
    {
     "name": "stdout",
     "output_type": "stream",
     "text": [
      "Result of reducing the tuple: 15\n"
     ]
    }
   ],
   "source": [
    "from functools import reduce\n",
    "\n",
    "def add(a,b):\n",
    "    return a+b\n",
    "\n",
    "original_tuple = (1,2,3,4,5)\n",
    "\n",
    "result = reduce(add, original_tuple)\n",
    "print(\"Result of reducing the tuple:\",result)"
   ]
  },
  {
   "cell_type": "code",
   "execution_count": null,
   "id": "0a0335d0",
   "metadata": {},
   "outputs": [],
   "source": []
  }
 ],
 "metadata": {
  "kernelspec": {
   "display_name": "Python 3 (ipykernel)",
   "language": "python",
   "name": "python3"
  },
  "language_info": {
   "codemirror_mode": {
    "name": "ipython",
    "version": 3
   },
   "file_extension": ".py",
   "mimetype": "text/x-python",
   "name": "python",
   "nbconvert_exporter": "python",
   "pygments_lexer": "ipython3",
   "version": "3.11.3"
  }
 },
 "nbformat": 4,
 "nbformat_minor": 5
}
