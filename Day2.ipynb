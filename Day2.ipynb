{
 "cells": [
  {
   "cell_type": "code",
   "execution_count": 2,
   "id": "d88b99be",
   "metadata": {
    "scrolled": true
   },
   "outputs": [
    {
     "name": "stdout",
     "output_type": "stream",
     "text": [
      "5\n",
      "* \n",
      "* * \n",
      "* * * \n",
      "* * * * \n",
      "* * * * * \n"
     ]
    }
   ],
   "source": [
    "#Pattern 1\n",
    "n = int(input())\n",
    "for i in range(0,n):\n",
    "    for j in range(0,i+1):\n",
    "        print(\"*\",end=\" \")\n",
    "    print()"
   ]
  },
  {
   "cell_type": "code",
   "execution_count": null,
   "id": "03268e0b",
   "metadata": {},
   "outputs": [],
   "source": [
    "# Pattern 2\n",
    "n = int(input())\n",
    "for i in range(0,n):\n",
    "    for j in range(0,n):\n",
    "        if(i+j>=n-1):\n",
    "            print(\"*\",end=\" \")\n",
    "        else:\n",
    "            print(\" \",end=\" \")\n",
    "    print()"
   ]
  },
  {
   "cell_type": "code",
   "execution_count": 40,
   "id": "a4860950",
   "metadata": {},
   "outputs": [
    {
     "name": "stdout",
     "output_type": "stream",
     "text": [
      "5\n",
      "* * * * * \n",
      "  * * * * \n",
      "    * * * \n",
      "      * * \n",
      "        * \n"
     ]
    }
   ],
   "source": [
    "#Pattern 3\n",
    "n = int(input())\n",
    "for i in range(0,n):\n",
    "    for j in range(0,n):\n",
    "        if(j>=i):\n",
    "            print(\"*\",end=\" \")\n",
    "        else:\n",
    "            print(\" \",end=\" \")\n",
    "    print()"
   ]
  },
  {
   "cell_type": "code",
   "execution_count": 5,
   "id": "6c3cb043",
   "metadata": {},
   "outputs": [
    {
     "name": "stdout",
     "output_type": "stream",
     "text": [
      "5\n",
      "* * * * * \n",
      "* * * * \n",
      "* * * \n",
      "* * \n",
      "* \n"
     ]
    }
   ],
   "source": [
    "#Pattern 4\n",
    "n = int(input())\n",
    "for i in range(0,n):\n",
    "    for j in range(0,n-i):\n",
    "        print(\"*\",end=\" \")\n",
    "    print()"
   ]
  },
  {
   "cell_type": "code",
   "execution_count": 1,
   "id": "f70f74ee",
   "metadata": {},
   "outputs": [
    {
     "name": "stdout",
     "output_type": "stream",
     "text": [
      "5\n",
      "* * * * * \n",
      "* * * * * \n",
      "* * * * * \n",
      "* * * * * \n",
      "* * * * * \n"
     ]
    }
   ],
   "source": [
    "#Pattern 5\n",
    "n = int(input())\n",
    "for i in range(0,n):z\n",
    "    for j in range(0,n):\n",
    "        print(\"*\",end=\" \")\n",
    "    print()"
   ]
  },
  {
   "cell_type": "code",
   "execution_count": 6,
   "id": "e66731b7",
   "metadata": {},
   "outputs": [
    {
     "name": "stdout",
     "output_type": "stream",
     "text": [
      "5\n",
      "1 \n",
      "1 2 \n",
      "1 2 3 \n",
      "1 2 3 4 \n",
      "1 2 3 4 5 \n"
     ]
    }
   ],
   "source": [
    "#Pattern 6\n",
    "n = int(input())\n",
    "for i in range(1,n+1):\n",
    "    for j in range(1,i+1):\n",
    "        print(j,end=\" \")\n",
    "    print()"
   ]
  },
  {
   "cell_type": "code",
   "execution_count": 7,
   "id": "c9cc29f0",
   "metadata": {},
   "outputs": [
    {
     "name": "stdout",
     "output_type": "stream",
     "text": [
      "5\n",
      "1 \n",
      "2 2 \n",
      "3 3 3 \n",
      "4 4 4 4 \n",
      "5 5 5 5 5 \n"
     ]
    }
   ],
   "source": [
    "#Pattern 7\n",
    "n = int(input())\n",
    "for i in range(1,n+1):\n",
    "    for j in range(1,i+1):\n",
    "        print(i,end=\" \")\n",
    "    print()"
   ]
  },
  {
   "cell_type": "code",
   "execution_count": 68,
   "id": "b0404aa6",
   "metadata": {},
   "outputs": [
    {
     "name": "stdout",
     "output_type": "stream",
     "text": [
      "5\n",
      "* * * * * \n",
      "*       * \n",
      "*       * \n",
      "*       * \n",
      "* * * * * \n"
     ]
    }
   ],
   "source": [
    "#Pattern 8\n",
    "n = int(input())\n",
    "for i in range(n):\n",
    "    for j in range(n):\n",
    "        if((i==0 or i==n-1) or (j==0 or j==4)):\n",
    "            print(\"*\",end=\" \")\n",
    "        else:\n",
    "            print(\" \",end=\" \")\n",
    "    print()"
   ]
  },
  {
   "cell_type": "code",
   "execution_count": 89,
   "id": "b50fef85",
   "metadata": {},
   "outputs": [
    {
     "name": "stdout",
     "output_type": "stream",
     "text": [
      "5\n",
      "* * * * * \n",
      "* *   * * \n",
      "*   *   * \n",
      "* *   * * \n",
      "* * * * * \n"
     ]
    }
   ],
   "source": [
    "#Pattern 9\n",
    "n = int(input())\n",
    "for i in range(n):\n",
    "    for j in range(n):\n",
    "        if((i==0 or i==n-1) or (j==0 or j==4) or i+j==(n-1) or i==j):\n",
    "            print(\"*\",end=\" \")\n",
    "        else:\n",
    "            print(\" \",end=\" \")\n",
    "    print()"
   ]
  },
  {
   "cell_type": "code",
   "execution_count": 94,
   "id": "e00af933",
   "metadata": {},
   "outputs": [
    {
     "name": "stdout",
     "output_type": "stream",
     "text": [
      "4\n",
      "1 2 3 4 \n",
      "5 6 7 8 \n",
      "9 10 11 12 \n",
      "13 14 15 16 \n"
     ]
    }
   ],
   "source": [
    "#Pattern 10\n",
    "n = int(input())\n",
    "k = 1\n",
    "for i in range(n):\n",
    "    for j in range(n):\n",
    "        print(k,end=\" \")\n",
    "        k+=1\n",
    "    print()"
   ]
  },
  {
   "cell_type": "code",
   "execution_count": 90,
   "id": "76f6930b",
   "metadata": {},
   "outputs": [
    {
     "name": "stdout",
     "output_type": "stream",
     "text": [
      "5\n",
      "Enter the character to be printed:Z\n",
      "Z Z Z Z Z \n",
      "Z Z Z Z Z \n",
      "Z Z Z Z Z \n",
      "Z Z Z Z Z \n",
      "Z Z Z Z Z \n"
     ]
    }
   ],
   "source": [
    "#Pattern 11\n",
    "n = int(input())\n",
    "char = input(\"Enter the character to be printed:\")\n",
    "for i in range(0,n):\n",
    "    for j in range(0,n):\n",
    "        print(char,end=\" \")\n",
    "    print()"
   ]
  },
  {
   "cell_type": "code",
   "execution_count": 10,
   "id": "f2a1431b",
   "metadata": {},
   "outputs": [
    {
     "name": "stdout",
     "output_type": "stream",
     "text": [
      "Enter the string:Aaryan\n",
      "Ara\n"
     ]
    }
   ],
   "source": [
    "s = input(\"Enter the string:\")\n",
    "a = \"\"\n",
    "for i in range(len(s)):\n",
    "    if(i%2==0):\n",
    "        a = a+s[i]\n",
    "print(a)"
   ]
  },
  {
   "cell_type": "code",
   "execution_count": 17,
   "id": "3383d470",
   "metadata": {},
   "outputs": [
    {
     "name": "stdout",
     "output_type": "stream",
     "text": [
      "Enter the first number A:10\n",
      "Enter the second number B:20\n",
      "The numbers after swapping are:\n",
      "A = 20\n",
      "B = 10\n"
     ]
    }
   ],
   "source": [
    "#Swapping using a third variable\n",
    "def swap_number(n1,n2):\n",
    "    temp = n1\n",
    "    n1 = n2\n",
    "    n2 = temp\n",
    "    print(\"The numbers after swapping are:\")\n",
    "    print(\"A =\",n1)\n",
    "    print(\"B =\",n2)\n",
    "a = int(input(\"Enter the first number A:\"))\n",
    "b = int(input(\"Enter the second number B:\"))\n",
    "swap_number(a,b)"
   ]
  },
  {
   "cell_type": "code",
   "execution_count": 18,
   "id": "a10af675",
   "metadata": {},
   "outputs": [
    {
     "name": "stdout",
     "output_type": "stream",
     "text": [
      "Enter the first number A:10\n",
      "Enter the second number B:20\n",
      "The numbers after swapping are:\n",
      "A = 20\n",
      "B = 10\n"
     ]
    }
   ],
   "source": [
    "#Swapping without using a third variable\n",
    "def swap_number(n1,n2):\n",
    "    n1 = n1+n2\n",
    "    n2 = n1-n2\n",
    "    n1 = n1-n2\n",
    "    print(\"The numbers after swapping are:\")\n",
    "    print(\"A =\",n1)\n",
    "    print(\"B =\",n2)\n",
    "a = int(input(\"Enter the first number A:\"))\n",
    "b = int(input(\"Enter the second number B:\"))\n",
    "swap_number(a,b)"
   ]
  },
  {
   "cell_type": "code",
   "execution_count": 26,
   "id": "951c653a",
   "metadata": {},
   "outputs": [
    {
     "name": "stdout",
     "output_type": "stream",
     "text": [
      "Enter the 1st test marks:50\n",
      "Enter the 2nd test marks:50\n",
      "Enter the 3rd test marks:50\n",
      "50.0\n"
     ]
    }
   ],
   "source": [
    "def average(t1,t2,t3):\n",
    "    x = (t1+t2)/2\n",
    "    y = (t2+t3)/2\n",
    "    z = (t3+t1)/2\n",
    "    return x,y,z\n",
    "a = int(input(\"Enter the 1st test marks:\"))\n",
    "b = int(input(\"Enter the 2nd test marks:\"))\n",
    "c = int(input(\"Enter the 3rd test marks:\"))\n",
    "print(max(average(a,b,c)))"
   ]
  }
 ],
 "metadata": {
  "kernelspec": {
   "display_name": "Python 3 (ipykernel)",
   "language": "python",
   "name": "python3"
  },
  "language_info": {
   "codemirror_mode": {
    "name": "ipython",
    "version": 3
   },
   "file_extension": ".py",
   "mimetype": "text/x-python",
   "name": "python",
   "nbconvert_exporter": "python",
   "pygments_lexer": "ipython3",
   "version": "3.11.3"
  }
 },
 "nbformat": 4,
 "nbformat_minor": 5
}
