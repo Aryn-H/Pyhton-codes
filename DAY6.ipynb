{
 "cells": [
  {
   "cell_type": "code",
   "execution_count": 29,
   "id": "402c1859",
   "metadata": {},
   "outputs": [
    {
     "name": "stdout",
     "output_type": "stream",
     "text": [
      "Enter the base number:5\n",
      "Enter the exponent:5\n",
      "3125\n"
     ]
    }
   ],
   "source": [
    "def power(n, p):\n",
    "    if(p==0):\n",
    "        return 1\n",
    "    temp = power(n, p//2)\n",
    "    if p%2==0:\n",
    "        return temp * temp\n",
    "    else:\n",
    "        return n * temp * temp\n",
    "\n",
    "n = int(input(\"Enter the base number:\"))\n",
    "p = int(input(\"Enter the exponent:\"))\n",
    "print(power(n,p))"
   ]
  },
  {
   "cell_type": "code",
   "execution_count": 37,
   "id": "51b973c5",
   "metadata": {},
   "outputs": [
    {
     "name": "stdout",
     "output_type": "stream",
     "text": [
      "True\n"
     ]
    }
   ],
   "source": [
    "# Given an array N numbers and another number X the task is to check whether or not there exist two elements in the array whose exact sum is X\n",
    "\n",
    "def sum_is_X(a,x):\n",
    "    flag = False\n",
    "    for i in arr:\n",
    "        for j in range(1,len(arr)):\n",
    "            if(i + j == X):\n",
    "                flag = True\n",
    "    return flag\n",
    "\n",
    "arr = [1,-1,2,4,8]\n",
    "X = 0\n",
    "print(sum_is_X(arr,X))"
   ]
  },
  {
   "cell_type": "code",
   "execution_count": null,
   "id": "ae993654",
   "metadata": {},
   "outputs": [],
   "source": []
  }
 ],
 "metadata": {
  "kernelspec": {
   "display_name": "Python 3 (ipykernel)",
   "language": "python",
   "name": "python3"
  },
  "language_info": {
   "codemirror_mode": {
    "name": "ipython",
    "version": 3
   },
   "file_extension": ".py",
   "mimetype": "text/x-python",
   "name": "python",
   "nbconvert_exporter": "python",
   "pygments_lexer": "ipython3",
   "version": "3.11.3"
  }
 },
 "nbformat": 4,
 "nbformat_minor": 5
}
