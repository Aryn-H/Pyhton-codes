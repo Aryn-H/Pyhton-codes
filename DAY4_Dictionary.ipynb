{
 "cells": [
  {
   "cell_type": "code",
   "execution_count": 9,
   "id": "d7278e73",
   "metadata": {},
   "outputs": [
    {
     "name": "stdout",
     "output_type": "stream",
     "text": [
      "{'brand': 'Ford', 'model': 'Mustang', 'year': 1964}\n",
      "Initial Dictionary: {'name': 'Alice', 'age': 30, 'city': 'New York'}\n",
      "3\n",
      "<class 'dict'>\n",
      "Name: Alice\n",
      "Age: 30\n",
      "dict_keys(['name', 'age', 'city'])\n",
      "dict_values(['Alice', 30, 'New York'])\n",
      "dict_items([('name', 'Alice'), ('age', 30), ('city', 'New York')])\n",
      "New York\n"
     ]
    }
   ],
   "source": [
    "thisdict = {\n",
    "    'brand': 'Ford',\n",
    "    'model': 'Mustang',\n",
    "    'year': 1964\n",
    "}\n",
    "\n",
    "thisdict2 = dict(name = 'John', age = 36, country = 'Norway')\n",
    "print(thisdict)\n",
    "\n",
    "my_dict = {}\n",
    "\n",
    "my_dict['name'] = 'Alice'\n",
    "my_dict['age'] = 30\n",
    "my_dict['city'] = 'New York'\n",
    "\n",
    "print(\"Initial Dictionary:\",my_dict)\n",
    "print(len(my_dict))\n",
    "print(type(my_dict))\n",
    "\n",
    "print(\"Name:\",my_dict['name'])\n",
    "print(\"Age:\",my_dict['age'])\n",
    "x = my_dict.keys()\n",
    "print(x)\n",
    "y = my_dict.values()\n",
    "print(y)\n",
    "z = my_dict.items()\n",
    "print(z)\n",
    "m = my_dict.get('city')\n",
    "print(m)"
   ]
  },
  {
   "cell_type": "code",
   "execution_count": 10,
   "id": "5e269336",
   "metadata": {},
   "outputs": [
    {
     "name": "stdout",
     "output_type": "stream",
     "text": [
      "Keys:\n",
      "name\n",
      "age\n",
      "city\n",
      "Values:\n",
      "Alice\n",
      "23\n",
      "New York\n",
      "Key-Value pairs:\n",
      "name : Alice\n",
      "age : 23\n",
      "city : New York\n",
      "name exists in the dictionary\n",
      "Modified age: 35\n",
      "{'name': 'Alice', 'age': 45, 'city': 'New York', 'color1': 'fair'}\n",
      "Removed value: 45\n",
      "{'name': 'Alice', 'city': 'New York', 'color1': 'fair', 'color2': 'dark'}\n",
      "{'name': 'Alice', 'city': 'New York', 'color1': 'fair'}\n"
     ]
    }
   ],
   "source": [
    "dict1={}\n",
    "\n",
    "dict1['name']='Alice'\n",
    "dict1['age']=23\n",
    "dict1['city']='New York'\n",
    "\n",
    "print('Keys:')\n",
    "for key in dict1.keys():\n",
    "    print(key)\n",
    "\n",
    "print('Values:')\n",
    "for value in dict1.values():\n",
    "    print(value)\n",
    "\n",
    "print('Key-Value pairs:')\n",
    "for key,value in dict1.items():\n",
    "    print(key,':',value)\n",
    "\n",
    "if 'name' in dict1:\n",
    "    print('name','exists in the dictionary')\n",
    "else:\n",
    "    print('name','does not exist in the dictionary')\n",
    "\n",
    "dict1['age']=35\n",
    "print('Modified age:',dict1['age'])\n",
    "\n",
    "dict1.update({'age':45})\n",
    "\n",
    "dict1['color1']='fair'\n",
    "print(dict1)\n",
    "\n",
    "dict1.update({'color2':'dark'})\n",
    "\n",
    "removed_value=dict1.pop('age')\n",
    "print('Removed value:',removed_value)\n",
    "print(dict1)\n",
    "\n",
    "dict1.popitem()\n",
    "print(dict1)"
   ]
  },
  {
   "cell_type": "code",
   "execution_count": 11,
   "id": "d54cb99d",
   "metadata": {},
   "outputs": [
    {
     "name": "stdout",
     "output_type": "stream",
     "text": [
      "Dictionary after clearing: {}\n"
     ]
    }
   ],
   "source": [
    "dict1.clear()\n",
    "print('Dictionary after clearing:',dict1)"
   ]
  },
  {
   "cell_type": "code",
   "execution_count": 12,
   "id": "b353fec3",
   "metadata": {},
   "outputs": [],
   "source": [
    "dict1={}\n",
    "\n",
    "dict1['name']='Alice'\n",
    "dict1['age']=23\n",
    "dict1['city']='New York'\n",
    "\n",
    "del dict1"
   ]
  },
  {
   "cell_type": "code",
   "execution_count": 13,
   "id": "8543b5cf",
   "metadata": {},
   "outputs": [
    {
     "name": "stdout",
     "output_type": "stream",
     "text": [
      "{'child1': {'name': 'Emil', 'year': 2004}, 'child2': {'name': 'Tobias', 'year': 2007}, 'child3': {'name': 'Linus', 'year': 2011}}\n",
      "Tobias\n",
      "child1\n",
      "name: Emil\n",
      "year: 2004\n",
      "child2\n",
      "name: Tobias\n",
      "year: 2007\n",
      "child3\n",
      "name: Linus\n",
      "year: 2011\n"
     ]
    }
   ],
   "source": [
    "myfamily = {\n",
    "    'child1' : {\n",
    "        'name' : 'Emil',\n",
    "        'year' : 2004\n",
    "    },\n",
    "    'child2' : {\n",
    "        'name' : 'Tobias',\n",
    "        'year' : 2007\n",
    "    },\n",
    "    'child3' : {\n",
    "        'name' : 'Linus',\n",
    "        'year' : 2011\n",
    "    }\n",
    "}\n",
    "\n",
    "print(myfamily)\n",
    "print(myfamily['child2']['name'])\n",
    "\n",
    "for x, obj in myfamily.items():\n",
    "    print(x)\n",
    "    for y in obj:\n",
    "        print(y + ':',obj[y])"
   ]
  }
 ],
 "metadata": {
  "kernelspec": {
   "display_name": "Python 3 (ipykernel)",
   "language": "python",
   "name": "python3"
  },
  "language_info": {
   "codemirror_mode": {
    "name": "ipython",
    "version": 3
   },
   "file_extension": ".py",
   "mimetype": "text/x-python",
   "name": "python",
   "nbconvert_exporter": "python",
   "pygments_lexer": "ipython3",
   "version": "3.11.3"
  }
 },
 "nbformat": 4,
 "nbformat_minor": 5
}
